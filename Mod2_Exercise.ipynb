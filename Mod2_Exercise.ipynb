{
  "nbformat": 4,
  "nbformat_minor": 0,
  "metadata": {
    "colab": {
      "name": "Mod2_Exercise",
      "provenance": [],
      "authorship_tag": "ABX9TyNyWhPl61tgHc9mvlzv2zWa",
      "include_colab_link": true
    },
    "kernelspec": {
      "name": "python3",
      "display_name": "Python 3"
    },
    "language_info": {
      "name": "python"
    }
  },
  "cells": [
    {
      "cell_type": "markdown",
      "metadata": {
        "id": "view-in-github",
        "colab_type": "text"
      },
      "source": [
        "<a href=\"https://colab.research.google.com/github/antoniocmajr/python-lessons/blob/main/Mod2_Exercise.ipynb\" target=\"_parent\"><img src=\"https://colab.research.google.com/assets/colab-badge.svg\" alt=\"Open In Colab\"/></a>"
      ]
    },
    {
      "cell_type": "code",
      "metadata": {
        "id": "YqCtx87p9230",
        "colab": {
          "base_uri": "https://localhost:8080/"
        },
        "outputId": "30f140de-c67e-478a-a702-2305b70a3924"
      },
      "source": [
        "#1 - Listas\n",
        "filmes = ['The Shawshank Redemption','The Godfather','The Godfather: Part II','The Dark Knight','12 Angry Men','Schindler´s List','The Lord of the Rings: The Return of the King','Pulp Fiction','The Good, the Bad and the Ugly','The Lord of the Rings: The Fellowship of the Ring']\n",
        "print(filmes)\n",
        "\n",
        "primeiro = filmes.pop(0)\n",
        "segundo = filmes.pop(0)\n",
        "print(primeiro)\n",
        "print(segundo)\n",
        "\n",
        "filmes.insert(0,primeiro)\n",
        "filmes.insert(0,segundo)\n",
        "print(filmes)"
      ],
      "execution_count": null,
      "outputs": [
        {
          "output_type": "stream",
          "text": [
            "['The Shawshank Redemption', 'The Godfather', 'The Godfather: Part II', 'The Dark Knight', '12 Angry Men', 'Schindler´s List', 'The Lord of the Rings: The Return of the King', 'Pulp Fiction', 'The Good, the Bad and the Ugly', 'The Lord of the Rings: The Fellowship of the Ring']\n",
            "The Shawshank Redemption\n",
            "The Godfather\n",
            "['The Godfather', 'The Shawshank Redemption', 'The Godfather: Part II', 'The Dark Knight', '12 Angry Men', 'Schindler´s List', 'The Lord of the Rings: The Return of the King', 'Pulp Fiction', 'The Good, the Bad and the Ugly', 'The Lord of the Rings: The Fellowship of the Ring']\n"
          ],
          "name": "stdout"
        }
      ]
    },
    {
      "cell_type": "code",
      "metadata": {
        "colab": {
          "base_uri": "https://localhost:8080/"
        },
        "id": "MZnhrJgEByYT",
        "outputId": "2426e56d-3948-437b-cbe6-9f24024d40c2"
      },
      "source": [
        "#2 - Conjuntos\n",
        "filmes = ['The Shawshank Redemption','The Godfather','The Godfather: Part II','The Dark Knight','12 Angry Men','Schindler´s List','The Lord of the Rings: The Return of the King','Pulp Fiction','The Good, the Bad and the Ugly','The Lord of the Rings: The Fellowship of the Ring']\n",
        "print(filmes)\n",
        "oitavo = filmes[7]\n",
        "nono = filmes[8]\n",
        "decimo = filmes[9]\n",
        "filmes.append(oitavo)\n",
        "filmes.append(nono)\n",
        "filmes.append(decimo)\n",
        "print(filmes)\n",
        "lista_filmes = list(set(filmes))\n",
        "print(lista_filmes)\n"
      ],
      "execution_count": null,
      "outputs": [
        {
          "output_type": "stream",
          "text": [
            "['The Shawshank Redemption', 'The Godfather', 'The Godfather: Part II', 'The Dark Knight', '12 Angry Men', 'Schindler´s List', 'The Lord of the Rings: The Return of the King', 'Pulp Fiction', 'The Good, the Bad and the Ugly', 'The Lord of the Rings: The Fellowship of the Ring']\n",
            "['The Shawshank Redemption', 'The Godfather', 'The Godfather: Part II', 'The Dark Knight', '12 Angry Men', 'Schindler´s List', 'The Lord of the Rings: The Return of the King', 'Pulp Fiction', 'The Good, the Bad and the Ugly', 'The Lord of the Rings: The Fellowship of the Ring', 'Pulp Fiction', 'The Good, the Bad and the Ugly', 'The Lord of the Rings: The Fellowship of the Ring']\n",
            "['The Shawshank Redemption', '12 Angry Men', 'The Lord of the Rings: The Fellowship of the Ring', 'The Godfather', 'Pulp Fiction', 'The Good, the Bad and the Ugly', 'Schindler´s List', 'The Godfather: Part II', 'The Lord of the Rings: The Return of the King', 'The Dark Knight']\n"
          ],
          "name": "stdout"
        }
      ]
    },
    {
      "cell_type": "code",
      "metadata": {
        "colab": {
          "base_uri": "https://localhost:8080/"
        },
        "id": "ixBxLA2rFHHi",
        "outputId": "365e6e29-dd37-4dff-fb38-674d4c8140d8"
      },
      "source": [
        "#3 - Dicionários\n",
        "filmes = ['The Shawshank Redemption','The Godfather','The Godfather: Part II','The Dark Knight','12 Angry Men','Schindler´s List','The Lord of the Rings: The Return of the King','Pulp Fiction','The Good, the Bad and the Ugly','The Lord of the Rings: The Fellowship of the Ring']\n",
        "print(filmes)\n",
        "\n",
        "dict_filmes = {\n",
        "    'nome': filmes[0], 'ano': 1994}, {\n",
        "          'sinopse': 'Two imprisoned men bond over a number of years, finding solace and eventual redemption through acts of common decency.'\n",
        "          },{\n",
        "    'nome': filmes[1], 'ano': 1972}, {\n",
        "          'sinopse': 'An organized crime dynasty´s aging patriarch transfers control of his clandestine empire to his reluctant son.'\n",
        "          },{\n",
        "    'nome': filmes[2], 'ano': 1974}, {\n",
        "          'sinopse': 'The early life and career of Vito Corleone in 1920s New York City is portrayed, while his son, Michael, expands and tightens his grip on the family crime syndicate.'\n",
        "          },{\n",
        "    'nome': filmes[3], 'ano': 2008}, {\n",
        "          'sinopse': 'When the menace known as the Joker wreaks havoc and chaos on the people of Gotham, Batman must accept one of the greatest psychological and physical tests of his ability to fight injustice.'\n",
        "          },{\n",
        "    'nome': filmes[4], 'ano': 1957}, {\n",
        "          'sinopse': 'A jury holdout attempts to prevent a miscarriage of justice by forcing his colleagues to reconsider the evidence.'\n",
        "          },{\n",
        "    'nome': filmes[5], 'ano': 1993}, {\n",
        "          'sinopse': 'In German-occupied Poland during World War II, industrialist Oskar Schindler gradually becomes concerned for his Jewish workforce after witnessing their persecution by the Nazis.'\n",
        "          },{\n",
        "    'nome': filmes[6], 'ano': 2003}, {\n",
        "          'sinopse': 'Gandalf and Aragorn lead the World of Men against Sauron´s army to draw his gaze from Frodo and Sam as they approach Mount Doom with the One Ring.'\n",
        "          },{\n",
        "    'nome': filmes[7], 'ano': 1994}, {\n",
        "          'sinopse': 'The lives of two mob hitmen, a boxer, a gangster and his wife, and a pair of diner bandits intertwine in four tales of violence and redemption.'\n",
        "          },{\n",
        "    'nome': filmes[8], 'ano': 1966}, {\n",
        "          'sinopse': 'A bounty hunting scam joins two men in an uneasy alliance against a third in a race to find a fortune in gold buried in a remote cemetery.'\n",
        "          },{\n",
        "    'nome': filmes[9], 'ano': 2001}, {\n",
        "          'sinopse': 'A meek Hobbit from the Shire and eight companions set out on a journey to destroy the powerful One Ring and save Middle-earth from the Dark Lord Sauron.'\n",
        "          }\n",
        "print(dict_filmes)"
      ],
      "execution_count": null,
      "outputs": [
        {
          "output_type": "stream",
          "text": [
            "['The Shawshank Redemption', 'The Godfather', 'The Godfather: Part II', 'The Dark Knight', '12 Angry Men', 'Schindler´s List', 'The Lord of the Rings: The Return of the King', 'Pulp Fiction', 'The Good, the Bad and the Ugly', 'The Lord of the Rings: The Fellowship of the Ring']\n",
            "({'nome': 'The Shawshank Redemption', 'ano': 1994}, {'sinopse': 'Two imprisoned men bond over a number of years, finding solace and eventual redemption through acts of common decency.'}, {'nome': 'The Godfather', 'ano': 1972}, {'sinopse': 'An organized crime dynasty´s aging patriarch transfers control of his clandestine empire to his reluctant son.'}, {'nome': 'The Godfather: Part II', 'ano': 1974}, {'sinopse': 'The early life and career of Vito Corleone in 1920s New York City is portrayed, while his son, Michael, expands and tightens his grip on the family crime syndicate.'}, {'nome': 'The Dark Knight', 'ano': 2008}, {'sinopse': 'When the menace known as the Joker wreaks havoc and chaos on the people of Gotham, Batman must accept one of the greatest psychological and physical tests of his ability to fight injustice.'}, {'nome': '12 Angry Men', 'ano': 1957}, {'sinopse': 'A jury holdout attempts to prevent a miscarriage of justice by forcing his colleagues to reconsider the evidence.'}, {'nome': 'Schindler´s List', 'ano': 1993}, {'sinopse': 'In German-occupied Poland during World War II, industrialist Oskar Schindler gradually becomes concerned for his Jewish workforce after witnessing their persecution by the Nazis.'}, {'nome': 'The Lord of the Rings: The Return of the King', 'ano': 2003}, {'sinopse': 'Gandalf and Aragorn lead the World of Men against Sauron´s army to draw his gaze from Frodo and Sam as they approach Mount Doom with the One Ring.'}, {'nome': 'Pulp Fiction', 'ano': 1994}, {'sinopse': 'The lives of two mob hitmen, a boxer, a gangster and his wife, and a pair of diner bandits intertwine in four tales of violence and redemption.'}, {'nome': 'The Good, the Bad and the Ugly', 'ano': 1966}, {'sinopse': 'A bounty hunting scam joins two men in an uneasy alliance against a third in a race to find a fortune in gold buried in a remote cemetery.'}, {'nome': 'The Lord of the Rings: The Fellowship of the Ring', 'ano': 2001}, {'sinopse': 'A meek Hobbit from the Shire and eight companions set out on a journey to destroy the powerful One Ring and save Middle-earth from the Dark Lord Sauron.'})\n"
          ],
          "name": "stdout"
        }
      ]
    }
  ]
}