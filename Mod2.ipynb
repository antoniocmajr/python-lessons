{
  "nbformat": 4,
  "nbformat_minor": 0,
  "metadata": {
    "colab": {
      "name": "Mod2",
      "provenance": [],
      "authorship_tag": "ABX9TyM4WkmCdJgGwerV9iinA3qq",
      "include_colab_link": true
    },
    "kernelspec": {
      "name": "python3",
      "display_name": "Python 3"
    },
    "language_info": {
      "name": "python"
    }
  },
  "cells": [
    {
      "cell_type": "markdown",
      "metadata": {
        "id": "view-in-github",
        "colab_type": "text"
      },
      "source": [
        "<a href=\"https://colab.research.google.com/github/antoniocmajr/python-lessons/blob/main/Mod2.ipynb\" target=\"_parent\"><img src=\"https://colab.research.google.com/assets/colab-badge.svg\" alt=\"Open In Colab\"/></a>"
      ]
    },
    {
      "cell_type": "code",
      "metadata": {
        "colab": {
          "base_uri": "https://localhost:8080/"
        },
        "id": "f5sdPJHmO6dl",
        "outputId": "401f3d22-15fe-4460-df1a-250dc4867aaf"
      },
      "source": [
        "dia_11_saldo_inicial = 1000\n",
        "dia_11_transacao_1 = 243\n",
        "dia_11_transacao_2 = -798.58\n",
        "dia_11_transacao_3 = 427.12\n",
        "dia_11_transacao_4 = -10.91\n",
        "dia_11_saldo_final = dia_11_saldo_inicial + dia_11_transacao_1 + dia_11_transacao_2 + dia_11_transacao_3 + dia_11_transacao_4\n",
        "print(dia_11_saldo_final)"
      ],
      "execution_count": null,
      "outputs": [
        {
          "output_type": "stream",
          "text": [
            "860.63\n"
          ],
          "name": "stdout"
        }
      ]
    },
    {
      "cell_type": "code",
      "metadata": {
        "colab": {
          "base_uri": "https://localhost:8080/"
        },
        "id": "h2VwiO7SR6ND",
        "outputId": "47dc8cc5-d5e3-4803-e233-240cdebb357b"
      },
      "source": [
        "usuario_web = ['André Perez', 'andre.perez', 'andre123', 'andre.perez@gmail.com']\n",
        "print(usuario_web)\n",
        "print(type(usuario_web))"
      ],
      "execution_count": null,
      "outputs": [
        {
          "output_type": "stream",
          "text": [
            "['André Perez', 'andre.perez', 'andre123', 'andre.perez@gmail.com']\n",
            "<class 'list'>\n"
          ],
          "name": "stdout"
        }
      ]
    },
    {
      "cell_type": "code",
      "metadata": {
        "colab": {
          "base_uri": "https://localhost:8080/"
        },
        "id": "L_TxrShlTgjt",
        "outputId": "203b1cd9-a832-4c69-ea19-fa8b19893b18"
      },
      "source": [
        "idade = 20\n",
        "saldo_em_conta = 723.15\n",
        "usuario_loggedin = True\n",
        "usuario_web = ['André Perez', idade, 'andre.perez', 'andre123', 'andre.perez@gmail', saldo_em_conta, usuario_loggedin]\n",
        "print(usuario_web)\n",
        "print(type(usuario_web))"
      ],
      "execution_count": null,
      "outputs": [
        {
          "output_type": "stream",
          "text": [
            "['André Perez', 20, 'andre.perez', 'andre123', 'andre.perez@gmail', 723.15, True]\n",
            "<class 'list'>\n"
          ],
          "name": "stdout"
        }
      ]
    },
    {
      "cell_type": "code",
      "metadata": {
        "colab": {
          "base_uri": "https://localhost:8080/"
        },
        "id": "qVimBHAha5T3",
        "outputId": "80041771-7120-4acd-cebf-771c9e54fcf7"
      },
      "source": [
        "fabricantes_mobile_china = ['xiaomi','samsung']\n",
        "fabricantes_mobile_eua = ['apple','motorola']\n",
        "print('china: ' + str(fabricantes_mobile_china))\n",
        "print('eua: ' + str(fabricantes_mobile_eua))"
      ],
      "execution_count": null,
      "outputs": [
        {
          "output_type": "stream",
          "text": [
            "china: ['xiaomi', 'samsung']\n",
            "eua: ['apple', 'motorola']\n"
          ],
          "name": "stdout"
        }
      ]
    },
    {
      "cell_type": "code",
      "metadata": {
        "colab": {
          "base_uri": "https://localhost:8080/"
        },
        "id": "Af6UDi4gfAU-",
        "outputId": "87ccd9cc-9c13-4c51-da59-2611db9ce91b"
      },
      "source": [
        "fabricantes_mobile_china = ['xiaomi','samsung']\n",
        "fabricantes_mobile_eua = ['apple','motorola']\n",
        "fabricantes_mobile_china[1] = 'nokia'\n",
        "print(fabricantes_mobile_china)\n",
        "\n",
        "email = 'andre.perez@gmail.com'\n",
        "caracteres_email = list(email)\n",
        "print(email)\n",
        "print(caracteres_email)\n"
      ],
      "execution_count": null,
      "outputs": [
        {
          "output_type": "stream",
          "text": [
            "['xiaomi', 'nokia']\n",
            "andre.perez@gmail.com\n",
            "['a', 'n', 'd', 'r', 'e', '.', 'p', 'e', 'r', 'e', 'z', '@', 'g', 'm', 'a', 'i', 'l', '.', 'c', 'o', 'm']\n"
          ],
          "name": "stdout"
        }
      ]
    },
    {
      "cell_type": "code",
      "metadata": {
        "colab": {
          "base_uri": "https://localhost:8080/"
        },
        "id": "Psq6qSExlPBF",
        "outputId": "f16083dd-84c8-463c-811e-104fb57e4b50"
      },
      "source": [
        "dia_11_saldo_inicial = 1000\n",
        "dia_11_transacoes = list()\n",
        "dia_11_transacoes.append(243)\n",
        "dia_11_transacoes.append(-798.58)\n",
        "dia_11_transacoes.append(427.12)\n",
        "dia_11_transacoes.append(-10.91)\n",
        "print(dia_11_transacoes)\n",
        "dia_11_saldo_final = dia_11_saldo_inicial + dia_11_transacoes[0] + dia_11_transacoes[1] + dia_11_transacoes[2] + dia_11_transacoes[3]\n",
        "print(dia_11_saldo_final)"
      ],
      "execution_count": null,
      "outputs": [
        {
          "output_type": "stream",
          "text": [
            "[243, -798.58, 427.12, -10.91]\n",
            "860.63\n"
          ],
          "name": "stdout"
        }
      ]
    },
    {
      "cell_type": "code",
      "metadata": {
        "id": "uB48trP2b8gY",
        "colab": {
          "base_uri": "https://localhost:8080/"
        },
        "outputId": "beac5909-b175-4279-b8ab-4cffbcae4648"
      },
      "source": [
        "brasil = {'capital': 'Brasília', 'idioma': 'Português', 'populacao': 210}\n",
        "print(brasil)\n",
        "print(type(brasil))\n",
        "\n",
        "carro = {\n",
        "    'marca': 'Volkswagen',\n",
        "    'modelo': 'Polo',\n",
        "    'ano': 2021,\n",
        "    'ano': 2004\n",
        "}\n",
        "print(carro)"
      ],
      "execution_count": null,
      "outputs": [
        {
          "output_type": "stream",
          "text": [
            "{'capital': 'Brasília', 'idioma': 'Português', 'populacao': 210}\n",
            "<class 'dict'>\n",
            "{'marca': 'Volkswagen', 'modelo': 'Polo', 'ano': 2004}\n"
          ],
          "name": "stdout"
        }
      ]
    },
    {
      "cell_type": "code",
      "metadata": {
        "colab": {
          "base_uri": "https://localhost:8080/",
          "height": 72
        },
        "id": "pwB1xlaNeGCi",
        "outputId": "eca8d294-d801-45c3-fe77-f1086b271260"
      },
      "source": [
        "cadastro = {\n",
        "    'andre': {\n",
        "        'nome': 'Andre Perez', \n",
        "        'ano_nascimento': 1992, \n",
        "        'pais': {\n",
        "            'pai': {\n",
        "              'nome': '<nome-do-pai> Perez', \n",
        "              'ano_nascimento': 1971\n",
        "            },\n",
        "            'mae': {\n",
        "              'nome': '<nome-da-mae> Perez', \n",
        "              'ano_nascimento': 1973\n",
        "            },\n",
        "        }\n",
        "    }\n",
        "}\n",
        "print(cadastro)\n",
        "cadastro['andre']['pais']['mae']['nome']"
      ],
      "execution_count": null,
      "outputs": [
        {
          "output_type": "stream",
          "text": [
            "{'andre': {'nome': 'Andre Perez', 'ano_nascimento': 1992, 'pais': {'pai': {'nome': '<nome-do-pai> Perez', 'ano_nascimento': 1971}, 'mae': {'nome': '<nome-da-mae> Perez', 'ano_nascimento': 1973}}}}\n"
          ],
          "name": "stdout"
        },
        {
          "output_type": "execute_result",
          "data": {
            "application/vnd.google.colaboratory.intrinsic+json": {
              "type": "string"
            },
            "text/plain": [
              "'<nome-da-mae> Perez'"
            ]
          },
          "metadata": {
            "tags": []
          },
          "execution_count": 13
        }
      ]
    },
    {
      "cell_type": "code",
      "metadata": {
        "colab": {
          "base_uri": "https://localhost:8080/"
        },
        "id": "B6v037Fhtw_K",
        "outputId": "0d62a478-9d64-430b-9295-562aafdc0101"
      },
      "source": [
        "credito = {'123': 750,'789': 980}\n",
        "score_123 = credito['123']\n",
        "score_789 = credito['789']\n",
        "print(score_123)\n",
        "print(score_789)\n",
        "\n",
        "credito['123'] = 435\n",
        "print(credito)\n",
        "score_123 = credito['123']\n",
        "print(score_123)\n",
        "\n",
        "credito['544'] = 888\n",
        "print(credito)"
      ],
      "execution_count": null,
      "outputs": [
        {
          "output_type": "stream",
          "text": [
            "750\n",
            "980\n",
            "{'123': 435, '789': 980}\n",
            "435\n",
            "{'123': 435, '789': 980, '544': 888}\n"
          ],
          "name": "stdout"
        }
      ]
    },
    {
      "cell_type": "code",
      "metadata": {
        "colab": {
          "base_uri": "https://localhost:8080/"
        },
        "id": "iaXQVFUMw7He",
        "outputId": "4122276a-6286-4e73-b015-13c832f51bb2"
      },
      "source": [
        "artigo = dict(\n",
        "    titulo='Modulo 02 | Python: Estruturas de Dados',\n",
        "    corpo='Topicos, Aulas, Listas, Conjuntos, Dicionários, ...',\n",
        "    total_caracteres=1530\n",
        ")\n",
        "print(artigo)"
      ],
      "execution_count": null,
      "outputs": [
        {
          "output_type": "stream",
          "text": [
            "{'titulo': 'Modulo 02 | Python: Estruturas de Dados', 'corpo': 'Topicos, Aulas, Listas, Conjuntos, Dicionários, ...', 'total_caracteres': 1530}\n"
          ],
          "name": "stdout"
        }
      ]
    },
    {
      "cell_type": "code",
      "metadata": {
        "colab": {
          "base_uri": "https://localhost:8080/"
        },
        "id": "CNr0A5pwxF5k",
        "outputId": "2fffd7b9-5374-4a1c-c66d-86035bf46e34"
      },
      "source": [
        "artigo.update({'total_caracteres': 7850})\n",
        "print(artigo)\n",
        "\n",
        "total_caracteres = artigo.pop('total_caracteres')\n",
        "print(total_caracteres)\n"
      ],
      "execution_count": null,
      "outputs": [
        {
          "output_type": "stream",
          "text": [
            "{'titulo': 'Modulo 02 | Python: Estruturas de Dados', 'corpo': 'Topicos, Aulas, Listas, Conjuntos, Dicionários, ...', 'total_caracteres': 7850}\n",
            "7850\n"
          ],
          "name": "stdout"
        }
      ]
    },
    {
      "cell_type": "code",
      "metadata": {
        "colab": {
          "base_uri": "https://localhost:8080/"
        },
        "id": "ZqlYkbVuyQAJ",
        "outputId": "28de8988-fc2a-4274-ea01-9be1f3c327ad"
      },
      "source": [
        "artigo = dict(\n",
        "    titulo='Modulo 02 | Python: Estruturas de Dados',\n",
        "    corpo='Topicos, Aulas, Listas, Conjuntos, Dicionários, ...',\n",
        "    total_caracteres=1530\n",
        ")\n",
        "print(artigo)\n",
        "\n",
        "chaves = list(artigo.keys())\n",
        "print(chaves)\n",
        "\n",
        "valores = list(artigo.values())\n",
        "print(valores)"
      ],
      "execution_count": null,
      "outputs": [
        {
          "output_type": "stream",
          "text": [
            "{'titulo': 'Modulo 02 | Python: Estruturas de Dados', 'corpo': 'Topicos, Aulas, Listas, Conjuntos, Dicionários, ...', 'total_caracteres': 1530}\n",
            "['titulo', 'corpo', 'total_caracteres']\n",
            "['Modulo 02 | Python: Estruturas de Dados', 'Topicos, Aulas, Listas, Conjuntos, Dicionários, ...', 1530]\n"
          ],
          "name": "stdout"
        }
      ]
    },
    {
      "cell_type": "code",
      "metadata": {
        "colab": {
          "base_uri": "https://localhost:8080/"
        },
        "id": "H0uYZ5Nm21Pk",
        "outputId": "eb88207d-0b4e-4a9e-9478-664c34caab96"
      },
      "source": [
        "wifi_disponiveis = list()\n",
        "\n",
        "rede = {'nome': 'rede1', 'senha': 'cnx_cnx'}\n",
        "wifi_disponiveis.append(rede)\n",
        "\n",
        "rede = {'nome': 'uai-fi', 'senha': 'r3d3'}\n",
        "wifi_disponiveis.append(rede)\n",
        "\n",
        "print(wifi_disponiveis)"
      ],
      "execution_count": null,
      "outputs": [
        {
          "output_type": "stream",
          "text": [
            "[{'nome': 'rede1', 'senha': 'cnx_cnx'}, {'nome': 'uai-fi', 'senha': 'r3d3'}]\n"
          ],
          "name": "stdout"
        }
      ]
    }
  ]
}