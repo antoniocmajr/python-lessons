{
  "nbformat": 4,
  "nbformat_minor": 0,
  "metadata": {
    "colab": {
      "name": "Mod1_Exercise",
      "provenance": [],
      "collapsed_sections": [],
      "authorship_tag": "ABX9TyPOL/DxzqDMzkNcA80y1tEN",
      "include_colab_link": true
    },
    "kernelspec": {
      "name": "python3",
      "display_name": "Python 3"
    },
    "language_info": {
      "name": "python"
    }
  },
  "cells": [
    {
      "cell_type": "markdown",
      "metadata": {
        "id": "view-in-github",
        "colab_type": "text"
      },
      "source": [
        "<a href=\"https://colab.research.google.com/github/antoniocmajr/python-lessons/blob/main/Mod1_Exercise.ipynb\" target=\"_parent\"><img src=\"https://colab.research.google.com/assets/colab-badge.svg\" alt=\"Open In Colab\"/></a>"
      ]
    },
    {
      "cell_type": "code",
      "metadata": {
        "colab": {
          "base_uri": "https://localhost:8080/"
        },
        "id": "uZ8fv8hsUh1s",
        "outputId": "295c2e09-29cb-4bdd-8134-8b132b7491d5"
      },
      "source": [
        "print(\"Olá mundo!\")"
      ],
      "execution_count": null,
      "outputs": [
        {
          "output_type": "stream",
          "text": [
            "Olá mundo!\n"
          ],
          "name": "stdout"
        }
      ]
    },
    {
      "cell_type": "code",
      "metadata": {
        "colab": {
          "base_uri": "https://localhost:8080/"
        },
        "id": "pIP_t-BhVJAN",
        "outputId": "1a26a377-2e07-4804-b80e-cecb75eda859"
      },
      "source": [
        "qtd_total_vendas_1901 = 3\n",
        "ticket_medio_1901 = 320.52\n",
        "\n",
        "valor_total_vendas_2001 = 834.47\n",
        "ticket_medio_2001 = 119.21\n",
        "\n",
        "valor_total_vendas_2301 = 15378.12\n",
        "qtd_total_vendas_2301 = 5\n",
        "\n",
        "# Resultado (A)\n",
        "valor_total_vendas_1901 = qtd_total_vendas_1901 * ticket_medio_1901\n",
        "print(valor_total_vendas_1901)\n",
        "\n",
        "# Resultado (B)\n",
        "qtd_total_vendas_2001 = valor_total_vendas_2001 / ticket_medio_2001\n",
        "print(int(qtd_total_vendas_2001))\n",
        "\n",
        "# Resultado (C)\n",
        "ticket_medio_2301 = valor_total_vendas_2301 / qtd_total_vendas_2301\n",
        "print(round(ticket_medio_2301,2))"
      ],
      "execution_count": null,
      "outputs": [
        {
          "output_type": "stream",
          "text": [
            "961.56\n",
            "7\n",
            "3075.62\n"
          ],
          "name": "stdout"
        }
      ]
    },
    {
      "cell_type": "code",
      "metadata": {
        "colab": {
          "base_uri": "https://localhost:8080/"
        },
        "id": "vTHIjs2IZKLR",
        "outputId": "6f40b741-b825-4162-b78c-ad36a3fc6295"
      },
      "source": [
        "cancao = 'Roda mundo, roda gigante, roda moinho, roda pião.'\n",
        "\n",
        "# Método 1: Lower\n",
        "cancao_minusculo = cancao.lower()\n",
        "print(cancao_minusculo)\n",
        "\n",
        "# Método 2: Count\n",
        "print(cancao_minusculo.count('roda'))\n",
        "\n",
        "# Método 3: Find\n",
        "posicao_ponto = cancao_minusculo.find('.')\n",
        "print(posicao_ponto)\n",
        "\n",
        "# Método 4: Split\n",
        "cancao_minusculo_sem_ponto = cancao_minusculo[0:48]\n",
        "print(cancao_minusculo_sem_ponto)\n",
        "\n",
        "# Método 5: Split com o elemento ',' e transformação em lista\n",
        "elementos_cancao_lista = cancao_minusculo_sem_ponto.rsplit(',')\n",
        "print(elementos_cancao_list)"
      ],
      "execution_count": null,
      "outputs": [
        {
          "output_type": "stream",
          "text": [
            "roda mundo, roda gigante, roda moinho, roda pião.\n",
            "4\n",
            "48\n",
            "roda mundo, roda gigante, roda moinho, roda pião\n",
            "['roda mundo', ' roda gigante', ' roda moinho', ' roda pião']\n"
          ],
          "name": "stdout"
        }
      ]
    },
    {
      "cell_type": "code",
      "metadata": {
        "colab": {
          "base_uri": "https://localhost:8080/"
        },
        "id": "nHhfGL8qdsj1",
        "outputId": "f6b71775-0e14-46b4-9531-7b6fc41edd85"
      },
      "source": [
        "noticia = 'Selic vai a 2,75% e supera expectativas; é a primeira alta em 6 anos.'\n",
        "\n",
        "posicao_2 = noticia.find('2')\n",
        "# print(posicao_2)\n",
        "posicao_porcent = noticia.find('%')\n",
        "# print(posicao_porcent)\n",
        "posicao_ano_6 = noticia.find('6 anos')\n",
        "# print(posicao_ano_6)\n",
        "\n",
        "# Selic\n",
        "selic = noticia[12:17]\n",
        "print(selic)\n",
        "\n",
        "# Imprimir o valor do ano? De quando é a notícia? Estamos falando que é a primeira alta em 6 anos, mas não damos nenhuma referência de qual ano estamos.\n",
        "# Por isso vou imprimir o '6 anos', ok?\n",
        "ano = noticia[62:-1]\n",
        "print(ano)"
      ],
      "execution_count": null,
      "outputs": [
        {
          "output_type": "stream",
          "text": [
            "2,75%\n",
            "6 anos\n"
          ],
          "name": "stdout"
        }
      ]
    },
    {
      "cell_type": "code",
      "metadata": {
        "colab": {
          "base_uri": "https://localhost:8080/"
        },
        "id": "vjoSnMsofjPF",
        "outputId": "e9d295e3-8bac-4830-f1cc-eadde4171fc3"
      },
      "source": [
        "a = False\n",
        "b = True\n",
        "\n",
        "x = not(a & b)\n",
        "print(x)"
      ],
      "execution_count": null,
      "outputs": [
        {
          "output_type": "stream",
          "text": [
            "True\n"
          ],
          "name": "stdout"
        }
      ]
    }
  ]
}