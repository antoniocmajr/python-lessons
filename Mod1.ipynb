{
  "nbformat": 4,
  "nbformat_minor": 0,
  "metadata": {
    "colab": {
      "name": "Mod1",
      "provenance": [],
      "authorship_tag": "ABX9TyNTe1jr1fSDuvjDAIEotQEO",
      "include_colab_link": true
    },
    "kernelspec": {
      "name": "python3",
      "display_name": "Python 3"
    },
    "language_info": {
      "name": "python"
    }
  },
  "cells": [
    {
      "cell_type": "markdown",
      "metadata": {
        "id": "view-in-github",
        "colab_type": "text"
      },
      "source": [
        "<a href=\"https://colab.research.google.com/github/antoniocmajr/python-lessons/blob/main/Mod1.ipynb\" target=\"_parent\"><img src=\"https://colab.research.google.com/assets/colab-badge.svg\" alt=\"Open In Colab\"/></a>"
      ]
    },
    {
      "cell_type": "code",
      "metadata": {
        "id": "ayus6U5mmYY8"
      },
      "source": [
        "idade=30\n",
        "print(idade)\n",
        "idade=27\n",
        "print(idade)\n",
        "name='antonio'\n",
        "print(name)"
      ],
      "execution_count": null,
      "outputs": []
    },
    {
      "cell_type": "code",
      "metadata": {
        "id": "SmhKRvaByMBr"
      },
      "source": [
        "preco_banana = 1000\n",
        "tipo_preco_banana = type(preco_banana)\n",
        "print(preco_banana)\n",
        "print(tipo_preco_banana)\n",
        "\n",
        "juros = 0.05\n",
        "tipo_juros = type(juros)\n",
        "print(juros)\n",
        "print(tipo_juros)"
      ],
      "execution_count": null,
      "outputs": []
    },
    {
      "cell_type": "code",
      "metadata": {
        "id": "d7__AXZ8y_hi"
      },
      "source": [
        "primeiro_nome = 'antonio'\n",
        "print(primeiro_nome)\n",
        "print(type(primeiro_nome))"
      ],
      "execution_count": null,
      "outputs": []
    },
    {
      "cell_type": "code",
      "metadata": {
        "id": "G9A9XV8uzZG2"
      },
      "source": [
        "usuario_maior_de_idade = True\n",
        "print(usuario_maior_de_idade)\n",
        "print(type(usuario_maior_de_idade))"
      ],
      "execution_count": null,
      "outputs": []
    },
    {
      "cell_type": "code",
      "metadata": {
        "id": "B4FeYPAK0kfx"
      },
      "source": [
        "telefone_fixo = None\n",
        "print(telefone_fixo)\n",
        "print(type(telefone_fixo))"
      ],
      "execution_count": null,
      "outputs": []
    },
    {
      "cell_type": "code",
      "metadata": {
        "colab": {
          "base_uri": "https://localhost:8080/"
        },
        "id": "wPeU2I_vl08G",
        "outputId": "ab2accf0-2df1-47e5-8336-fe15108fa6c0"
      },
      "source": [
        "print(type(37))\n",
        "print(type(0.03))\n",
        "print(type(1+2j))"
      ],
      "execution_count": null,
      "outputs": [
        {
          "output_type": "stream",
          "text": [
            "<class 'int'>\n",
            "<class 'float'>\n",
            "<class 'complex'>\n"
          ],
          "name": "stdout"
        }
      ]
    },
    {
      "cell_type": "code",
      "metadata": {
        "colab": {
          "base_uri": "https://localhost:8080/"
        },
        "id": "OPj7DvXDmrBk",
        "outputId": "7608c93f-162a-49b1-ec79-e72eb5b14465"
      },
      "source": [
        "itens = 1\n",
        "print(itens)\n",
        "itens += 2\n",
        "print(itens)\n",
        "itens += 10\n",
        "print(itens)"
      ],
      "execution_count": null,
      "outputs": [
        {
          "output_type": "stream",
          "text": [
            "1\n",
            "3\n",
            "13\n"
          ],
          "name": "stdout"
        }
      ]
    },
    {
      "cell_type": "code",
      "metadata": {
        "colab": {
          "base_uri": "https://localhost:8080/"
        },
        "id": "RPv7wgAUn3IU",
        "outputId": "562c8334-ed77-4b22-cec1-4eb84d7ea5cf"
      },
      "source": [
        "preco = 47\n",
        "qtd = 2\n",
        "total = preco // qtd\n",
        "print(total)\n",
        "print(type(total))"
      ],
      "execution_count": null,
      "outputs": [
        {
          "output_type": "stream",
          "text": [
            "23\n",
            "<class 'int'>\n"
          ],
          "name": "stdout"
        }
      ]
    },
    {
      "cell_type": "code",
      "metadata": {
        "colab": {
          "base_uri": "https://localhost:8080/"
        },
        "id": "rG-zRph7oyB-",
        "outputId": "04754091-ac18-4455-8b53-07a1956f59ba"
      },
      "source": [
        "print(int(3.3))\n",
        "print(float(20))\n",
        "print(complex(1))"
      ],
      "execution_count": null,
      "outputs": [
        {
          "output_type": "stream",
          "text": [
            "3\n",
            "20.0\n",
            "(1+0j)\n"
          ],
          "name": "stdout"
        }
      ]
    },
    {
      "cell_type": "code",
      "metadata": {
        "colab": {
          "base_uri": "https://localhost:8080/"
        },
        "id": "yqYVbUE5pII6",
        "outputId": "77ccef45-cc0f-4790-de75-a2bf3ee1103f"
      },
      "source": [
        "svv = 153.98\n",
        "sqv = 3\n",
        "tkt = svv / sqv\n",
        "print(tkt)\n",
        "print(int(tkt))\n"
      ],
      "execution_count": null,
      "outputs": [
        {
          "output_type": "stream",
          "text": [
            "51.32666666666666\n",
            "51\n"
          ],
          "name": "stdout"
        }
      ]
    },
    {
      "cell_type": "code",
      "metadata": {
        "colab": {
          "base_uri": "https://localhost:8080/"
        },
        "id": "AGy5BzNXqLC4",
        "outputId": "4007d7df-9d07-4dda-a13e-89462ebb72f4"
      },
      "source": [
        "nome = 'antonio'\n",
        "sobrenome = 'andrade'\n",
        "print(nome + ' ' + sobrenome)\n",
        "\n",
        "apresentacao = 'olá, meu nome é' + ' ' + nome + ' ' + sobrenome + '.'\n",
        "print(apresentacao)\n",
        "print(type(apresentacao))\n",
        "\n",
        "apresentacao_final = f'olá, meu nome é {nome} {sobrenome}.'\n",
        "print(apresentacao_final)"
      ],
      "execution_count": null,
      "outputs": [
        {
          "output_type": "stream",
          "text": [
            "antonio andrade\n",
            "olá, meu nome é antonio andrade.\n",
            "<class 'str'>\n",
            "olá, meu nome é antonio andrade.\n"
          ],
          "name": "stdout"
        }
      ]
    },
    {
      "cell_type": "code",
      "metadata": {
        "colab": {
          "base_uri": "https://localhost:8080/"
        },
        "id": "ItFxelBCslB9",
        "outputId": "8ebb3612-5033-4b4d-dd9e-cd84d3561867"
      },
      "source": [
        "email = 'antoniocmajr@gmail.com'\n",
        "print('-1: ' + (email[-1]))\n",
        "print('-3: ' + (email[-3]))\n",
        "\n",
        "usuario = (email[0:12])\n",
        "print(usuario)\n",
        "\n",
        "provedor = (email[12:22])\n",
        "print(provedor)"
      ],
      "execution_count": null,
      "outputs": [
        {
          "output_type": "stream",
          "text": [
            "-1: m\n",
            "-3: c\n",
            "antoniocmajr\n",
            "@gmail.com\n"
          ],
          "name": "stdout"
        }
      ]
    },
    {
      "cell_type": "code",
      "metadata": {
        "colab": {
          "base_uri": "https://localhost:8080/"
        },
        "id": "2l8Y786fuP8D",
        "outputId": "5f913042-2214-4990-dfd4-5a4fd4f9b7a1"
      },
      "source": [
        "endereco = 'Servidão Antônio Cipriano Pereira, 168 - Itacorubi, Florianópolis - SC, 88034-280'\n",
        "print(endereco)\n",
        "print(endereco.upper())\n",
        "print(endereco.find('SC'))\n",
        "print(endereco.replace('Servidão','Rua'))"
      ],
      "execution_count": null,
      "outputs": [
        {
          "output_type": "stream",
          "text": [
            "Servidão Antônio Cipriano Pereira, 168 - Itacorubi, Florianópolis - SC, 88034-280\n",
            "SERVIDÃO ANTÔNIO CIPRIANO PEREIRA, 168 - ITACORUBI, FLORIANÓPOLIS - SC, 88034-280\n",
            "68\n",
            "Rua Antônio Cipriano Pereira, 168 - Itacorubi, Florianópolis - SC, 88034-280\n"
          ],
          "name": "stdout"
        }
      ]
    },
    {
      "cell_type": "code",
      "metadata": {
        "colab": {
          "base_uri": "https://localhost:8080/"
        },
        "id": "LgODSUyWv9vn",
        "outputId": "05f44288-3bdf-4565-cdbe-6297eb84bff4"
      },
      "source": [
        "idade = 26\n",
        "print(type(idade))\n",
        "\n",
        "idade = str(idade)\n",
        "print(idade)\n",
        "print(type(idade))"
      ],
      "execution_count": null,
      "outputs": [
        {
          "output_type": "stream",
          "text": [
            "<class 'int'>\n",
            "26\n",
            "<class 'str'>\n"
          ],
          "name": "stdout"
        }
      ]
    },
    {
      "cell_type": "code",
      "metadata": {
        "colab": {
          "base_uri": "https://localhost:8080/"
        },
        "id": "1PfOsisAwdON",
        "outputId": "c96cba86-69af-48b1-a1b3-18b39c5abfdd"
      },
      "source": [
        "faturamento = 'R$ 35 mi'\n",
        "print(faturamento)\n",
        "print(type(faturamento))\n",
        "\n",
        "faturamento = (faturamento[3:5])\n",
        "valor = int(faturamento)\n",
        "print(valor)\n",
        "print(type(valor))"
      ],
      "execution_count": null,
      "outputs": [
        {
          "output_type": "stream",
          "text": [
            "R$ 35 mi\n",
            "<class 'str'>\n",
            "35\n",
            "<class 'int'>\n"
          ],
          "name": "stdout"
        }
      ]
    },
    {
      "cell_type": "code",
      "metadata": {
        "colab": {
          "base_uri": "https://localhost:8080/"
        },
        "id": "J3zRgH_kxX2Z",
        "outputId": "fbb50d88-36bd-4cbd-a2cb-e7858baf49a0"
      },
      "source": [
        "# startup adquirida\n",
        "latlon = '-22.005320;-47.891040'\n",
        "posicao_char_divisao = latlon.find(';')\n",
        "print(posicao_char_divisao)\n",
        "lat = (latlon[0:posicao_char_divisao])\n",
        "print(lat)\n",
        "lon = (latlon[posicao_char_divisao+1:len(latlon)])\n",
        "print(lon)\n",
        "print(len('10'))"
      ],
      "execution_count": null,
      "outputs": [
        {
          "output_type": "stream",
          "text": [
            "10\n",
            "-22.005320\n",
            "-47.891040\n",
            "2\n"
          ],
          "name": "stdout"
        }
      ]
    },
    {
      "cell_type": "code",
      "metadata": {
        "colab": {
          "base_uri": "https://localhost:8080/"
        },
        "id": "A8sCdgKxk-hH",
        "outputId": "1ca538d4-5681-4dba-ca86-0d90e3e23f0c"
      },
      "source": [
        "verdadeiro = True\n",
        "print(verdadeiro)\n",
        "print(type(verdadeiro))\n",
        "\n",
        "saldo_conta = 200\n",
        "saque = 100\n",
        "\n",
        "pode_executar_saque = saque <= saldo_conta\n",
        "print(pode_executar_saque)\n",
        "\n",
        "cod_seguranca = '852'\n",
        "cod_seguranca_cadastro = '851'\n",
        "\n",
        "pode_efetuar_pagamento = cod_seguranca == cod_seguranca_cadastro\n",
        "print(pode_efetuar_pagamento)"
      ],
      "execution_count": null,
      "outputs": [
        {
          "output_type": "stream",
          "text": [
            "True\n",
            "<class 'bool'>\n",
            "True\n",
            "False\n"
          ],
          "name": "stdout"
        }
      ]
    },
    {
      "cell_type": "code",
      "metadata": {
        "colab": {
          "base_uri": "https://localhost:8080/"
        },
        "id": "6gUjhHBHm1Sg",
        "outputId": "21b781e4-718c-4a5e-8d28-bd65eb289548"
      },
      "source": [
        "# tabela da verdade\n",
        "\n",
        "print(True | True)\n",
        "print(True | False)\n",
        "print(False | False)\n",
        "print(False | True)\n",
        "\n",
        "print(True & True)\n",
        "print(True & False)\n",
        "print(False & False)\n",
        "print(False & True)\n",
        "\n",
        "print(not True)\n",
        "print(not False)"
      ],
      "execution_count": null,
      "outputs": [
        {
          "output_type": "stream",
          "text": [
            "True\n",
            "True\n",
            "False\n",
            "True\n",
            "True\n",
            "False\n",
            "False\n",
            "False\n",
            "False\n",
            "True\n"
          ],
          "name": "stdout"
        }
      ]
    },
    {
      "cell_type": "code",
      "metadata": {
        "colab": {
          "base_uri": "https://localhost:8080/"
        },
        "id": "WHYVNUc4nbqI",
        "outputId": "a1fdaf84-3752-40f7-d565-507587bd5783"
      },
      "source": [
        "idade = 19\n",
        "tipo_sangue = 'O-'\n",
        "filhos = 0\n",
        "tel_fixo = None\n",
        "tel_fixo = ''\n",
        "\n",
        "print(bool(idade))\n",
        "print(bool(tipo_sangue))\n",
        "print(bool(filhos))\n",
        "print(bool(tel_fixo))"
      ],
      "execution_count": null,
      "outputs": [
        {
          "output_type": "stream",
          "text": [
            "True\n",
            "True\n",
            "False\n",
            "False\n"
          ],
          "name": "stdout"
        }
      ]
    },
    {
      "cell_type": "code",
      "metadata": {
        "colab": {
          "base_uri": "https://localhost:8080/"
        },
        "id": "c9pSIc5Po2Gf",
        "outputId": "7a09dc1e-a3d8-4425-dfb1-508ae546b273"
      },
      "source": [
        "usuario = 'andre.perez'\n",
        "senha = 'andre123'\n",
        "\n",
        "usuario_cadastro = 'andre.perez'\n",
        "senha_cadastro = 'andre321'\n",
        "\n",
        "pode_entrar_usuario = usuario == usuario_cadastro\n",
        "pode_entrar_senha = senha == senha_cadastro\n",
        "print(pode_entrar_usuario)\n",
        "print(pode_entrar_senha)\n",
        "\n",
        "pode_entrar = pode_entrar_usuario & pode_entrar_senha\n",
        "print(pode_entrar)"
      ],
      "execution_count": null,
      "outputs": [
        {
          "output_type": "stream",
          "text": [
            "True\n",
            "False\n",
            "False\n"
          ],
          "name": "stdout"
        }
      ]
    }
  ]
}